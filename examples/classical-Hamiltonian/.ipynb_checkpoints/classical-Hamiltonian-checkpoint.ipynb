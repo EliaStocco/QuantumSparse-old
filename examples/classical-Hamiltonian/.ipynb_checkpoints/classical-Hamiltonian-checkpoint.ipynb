{
 "cells": [
  {
   "cell_type": "markdown",
   "id": "ed5b6b4b",
   "metadata": {},
   "source": [
    "# Classical Spin Hamiltonians"
   ]
  },
  {
   "cell_type": "code",
   "execution_count": 1,
   "id": "f20f3bb5",
   "metadata": {},
   "outputs": [],
   "source": [
    "import sys\n",
    "sys.path.append(\"../..\")\n",
    "import QuantumSparse as qs\n",
    "import numpy as np\n",
    "import sympy\n",
    "from sympy import symbols,cos,sin,Matrix, hessian,lambdify\n",
    "from scipy.optimize import minimize"
   ]
  },
  {
   "cell_type": "code",
   "execution_count": 2,
   "id": "f58de014",
   "metadata": {},
   "outputs": [
    {
     "name": "stdout",
     "output_type": "stream",
     "text": [
      "[1.5 1.5 1.5 1.5 1.5 1.5 1.5 1.5]\n"
     ]
    }
   ],
   "source": [
    "S     = 3./2.\n",
    "NSpin = 8\n",
    "SpinValues = np.full(NSpin,S)\n",
    "print(SpinValues)"
   ]
  },
  {
   "cell_type": "markdown",
   "id": "13b89c2a",
   "metadata": {},
   "source": [
    "### angular variables"
   ]
  },
  {
   "cell_type": "code",
   "execution_count": 3,
   "id": "55d0ac6f",
   "metadata": {},
   "outputs": [
    {
     "name": "stdout",
     "output_type": "stream",
     "text": [
      "[\\theta_1, \\theta_2, \\theta_3, \\theta_4, \\theta_5, \\theta_6, \\theta_7, \\theta_8]\n",
      "[\\phi_1, \\phi_2, \\phi_3, \\phi_4, \\phi_5, \\phi_6, \\phi_7, \\phi_8]\n"
     ]
    }
   ],
   "source": [
    "# [0,pi]\n",
    "theta = [sympy.symbols('\\\\theta_%d' % i) for i in range(1,NSpin+1)] #,real=True,positive=True\n",
    "# [0,2pi)\n",
    "phi   = [sympy.symbols('\\\\phi_%d'   % i) for i in range(1,NSpin+1)] #,real=True,positive=True\n",
    "print(theta)\n",
    "print(phi)"
   ]
  },
  {
   "cell_type": "markdown",
   "id": "235b425f",
   "metadata": {},
   "source": [
    "### spin variables"
   ]
  },
  {
   "cell_type": "code",
   "execution_count": 4,
   "id": "20d4b536",
   "metadata": {},
   "outputs": [
    {
     "name": "stdout",
     "output_type": "stream",
     "text": [
      "[S^x_1, S^x_2, S^x_3, S^x_4, S^x_5, S^x_6, S^x_7, S^x_8]\n",
      "[S^y_1, S^y_2, S^y_3, S^y_4, S^y_5, S^y_6, S^y_7, S^y_8]\n",
      "[S^z_1, S^z_2, S^z_3, S^z_4, S^z_5, S^z_6, S^z_7, S^z_8]\n"
     ]
    }
   ],
   "source": [
    "Sx = [sympy.symbols('S^x_%d' % i) for i in range(1,NSpin+1)]\n",
    "Sy = [sympy.symbols('S^y_%d' % i) for i in range(1,NSpin+1)]\n",
    "Sz = [sympy.symbols('S^z_%d' % i) for i in range(1,NSpin+1)]\n",
    "print(Sx)\n",
    "print(Sy)\n",
    "print(Sz)"
   ]
  },
  {
   "cell_type": "markdown",
   "id": "108f9a2d",
   "metadata": {},
   "source": [
    "### Spherical coordinates"
   ]
  },
  {
   "cell_type": "code",
   "execution_count": 5,
   "id": "c86acbe3",
   "metadata": {},
   "outputs": [],
   "source": [
    "def spherical_coordinates(r,theta,phi):\n",
    "    x = r*cos(phi)*sin(theta)\n",
    "    y = r*sin(phi)*sin(theta)\n",
    "    z = r*cos(theta)\n",
    "    return x,y,z"
   ]
  },
  {
   "cell_type": "code",
   "execution_count": 6,
   "id": "97fcf2d7",
   "metadata": {},
   "outputs": [
    {
     "name": "stdout",
     "output_type": "stream",
     "text": [
      "[1.5*sin(\\theta_1)*cos(\\phi_1), 1.5*sin(\\theta_2)*cos(\\phi_2), 1.5*sin(\\theta_3)*cos(\\phi_3), 1.5*sin(\\theta_4)*cos(\\phi_4), 1.5*sin(\\theta_5)*cos(\\phi_5), 1.5*sin(\\theta_6)*cos(\\phi_6), 1.5*sin(\\theta_7)*cos(\\phi_7), 1.5*sin(\\theta_8)*cos(\\phi_8)]\n",
      "[1.5*sin(\\phi_1)*sin(\\theta_1), 1.5*sin(\\phi_2)*sin(\\theta_2), 1.5*sin(\\phi_3)*sin(\\theta_3), 1.5*sin(\\phi_4)*sin(\\theta_4), 1.5*sin(\\phi_5)*sin(\\theta_5), 1.5*sin(\\phi_6)*sin(\\theta_6), 1.5*sin(\\phi_7)*sin(\\theta_7), 1.5*sin(\\phi_8)*sin(\\theta_8)]\n",
      "[1.5*cos(\\theta_1), 1.5*cos(\\theta_2), 1.5*cos(\\theta_3), 1.5*cos(\\theta_4), 1.5*cos(\\theta_5), 1.5*cos(\\theta_6), 1.5*cos(\\theta_7), 1.5*cos(\\theta_8)]\n"
     ]
    }
   ],
   "source": [
    "for i in range(NSpin):\n",
    "    Sx[i],Sy[i],Sz[i] = spherical_coordinates(S,theta[i],phi[i])\n",
    "    \n",
    "print(Sx)\n",
    "print(Sy)\n",
    "print(Sz)"
   ]
  },
  {
   "cell_type": "markdown",
   "id": "53e22252",
   "metadata": {},
   "source": [
    "### Hamiltonian"
   ]
  },
  {
   "cell_type": "code",
   "execution_count": 7,
   "id": "687859e7",
   "metadata": {},
   "outputs": [],
   "source": [
    "H = 0\n",
    "Jx,Jy,Jz = symbols('J_x J_y J_z')\n",
    "D,E      = symbols('D E')\n",
    "dx,dy,dz = symbols('d_x d_y d_z')"
   ]
  },
  {
   "cell_type": "code",
   "execution_count": 8,
   "id": "9257334d",
   "metadata": {},
   "outputs": [],
   "source": [
    "def Hamiltonian(Sx,Sy,Sz,Jx,Jy,Jz,D,E,dx,dy,dz):\n",
    "    H = 0\n",
    "    H += qs.Heisenberg(Sx,Sy,Sz,couplings=[Jx,Jy,Jz],nn=1,opts={\"sympy\":True}).simplify()\n",
    "    H += qs.anisotropy(Sz,couplings=D,opts={\"sympy\":True}).simplify()\n",
    "    H += qs.rombicity(Sx,Sy,couplings=E,opts={\"sympy\":True}).simplify()\n",
    "    H += qs.DM(Sx,Sy,Sz,couplings=[dx,dy,dz],opts={\"sympy\":True}).simplify()\n",
    "    return H    "
   ]
  },
  {
   "cell_type": "code",
   "execution_count": 9,
   "id": "32c6bcfa",
   "metadata": {},
   "outputs": [
    {
     "data": {
      "text/latex": [
       "$\\displaystyle 2.25 D \\left(\\cos^{2}{\\left(\\theta_{1} \\right)} + \\cos^{2}{\\left(\\theta_{2} \\right)} + \\cos^{2}{\\left(\\theta_{3} \\right)} + \\cos^{2}{\\left(\\theta_{4} \\right)} + \\cos^{2}{\\left(\\theta_{5} \\right)} + \\cos^{2}{\\left(\\theta_{6} \\right)} + \\cos^{2}{\\left(\\theta_{7} \\right)} + \\cos^{2}{\\left(\\theta_{8} \\right)}\\right) + 2.25 E \\left(- 2 \\sin^{2}{\\left(\\phi_{1} \\right)} \\sin^{2}{\\left(\\theta_{1} \\right)} - 2 \\sin^{2}{\\left(\\phi_{2} \\right)} \\sin^{2}{\\left(\\theta_{2} \\right)} - 2 \\sin^{2}{\\left(\\phi_{3} \\right)} \\sin^{2}{\\left(\\theta_{3} \\right)} - 2 \\sin^{2}{\\left(\\phi_{4} \\right)} \\sin^{2}{\\left(\\theta_{4} \\right)} - 2 \\sin^{2}{\\left(\\phi_{5} \\right)} \\sin^{2}{\\left(\\theta_{5} \\right)} - 2 \\sin^{2}{\\left(\\phi_{6} \\right)} \\sin^{2}{\\left(\\theta_{6} \\right)} - 2 \\sin^{2}{\\left(\\phi_{7} \\right)} \\sin^{2}{\\left(\\theta_{7} \\right)} - 2 \\sin^{2}{\\left(\\phi_{8} \\right)} \\sin^{2}{\\left(\\theta_{8} \\right)} + \\sin^{2}{\\left(\\theta_{1} \\right)} + \\sin^{2}{\\left(\\theta_{2} \\right)} + \\sin^{2}{\\left(\\theta_{3} \\right)} + \\sin^{2}{\\left(\\theta_{4} \\right)} + \\sin^{2}{\\left(\\theta_{5} \\right)} + \\sin^{2}{\\left(\\theta_{6} \\right)} + \\sin^{2}{\\left(\\theta_{7} \\right)} + \\sin^{2}{\\left(\\theta_{8} \\right)}\\right) + 2.25 J_{x} \\sin{\\left(\\theta_{1} \\right)} \\sin{\\left(\\theta_{2} \\right)} \\cos{\\left(\\phi_{1} \\right)} \\cos{\\left(\\phi_{2} \\right)} + 2.25 J_{x} \\sin{\\left(\\theta_{1} \\right)} \\sin{\\left(\\theta_{8} \\right)} \\cos{\\left(\\phi_{1} \\right)} \\cos{\\left(\\phi_{8} \\right)} + 2.25 J_{x} \\sin{\\left(\\theta_{2} \\right)} \\sin{\\left(\\theta_{3} \\right)} \\cos{\\left(\\phi_{2} \\right)} \\cos{\\left(\\phi_{3} \\right)} + 2.25 J_{x} \\sin{\\left(\\theta_{3} \\right)} \\sin{\\left(\\theta_{4} \\right)} \\cos{\\left(\\phi_{3} \\right)} \\cos{\\left(\\phi_{4} \\right)} + 2.25 J_{x} \\sin{\\left(\\theta_{4} \\right)} \\sin{\\left(\\theta_{5} \\right)} \\cos{\\left(\\phi_{4} \\right)} \\cos{\\left(\\phi_{5} \\right)} + 2.25 J_{x} \\sin{\\left(\\theta_{5} \\right)} \\sin{\\left(\\theta_{6} \\right)} \\cos{\\left(\\phi_{5} \\right)} \\cos{\\left(\\phi_{6} \\right)} + 2.25 J_{x} \\sin{\\left(\\theta_{6} \\right)} \\sin{\\left(\\theta_{7} \\right)} \\cos{\\left(\\phi_{6} \\right)} \\cos{\\left(\\phi_{7} \\right)} + 2.25 J_{x} \\sin{\\left(\\theta_{7} \\right)} \\sin{\\left(\\theta_{8} \\right)} \\cos{\\left(\\phi_{7} \\right)} \\cos{\\left(\\phi_{8} \\right)} + 2.25 J_{y} \\sin{\\left(\\phi_{1} \\right)} \\sin{\\left(\\phi_{2} \\right)} \\sin{\\left(\\theta_{1} \\right)} \\sin{\\left(\\theta_{2} \\right)} + 2.25 J_{y} \\sin{\\left(\\phi_{1} \\right)} \\sin{\\left(\\phi_{8} \\right)} \\sin{\\left(\\theta_{1} \\right)} \\sin{\\left(\\theta_{8} \\right)} + 2.25 J_{y} \\sin{\\left(\\phi_{2} \\right)} \\sin{\\left(\\phi_{3} \\right)} \\sin{\\left(\\theta_{2} \\right)} \\sin{\\left(\\theta_{3} \\right)} + 2.25 J_{y} \\sin{\\left(\\phi_{3} \\right)} \\sin{\\left(\\phi_{4} \\right)} \\sin{\\left(\\theta_{3} \\right)} \\sin{\\left(\\theta_{4} \\right)} + 2.25 J_{y} \\sin{\\left(\\phi_{4} \\right)} \\sin{\\left(\\phi_{5} \\right)} \\sin{\\left(\\theta_{4} \\right)} \\sin{\\left(\\theta_{5} \\right)} + 2.25 J_{y} \\sin{\\left(\\phi_{5} \\right)} \\sin{\\left(\\phi_{6} \\right)} \\sin{\\left(\\theta_{5} \\right)} \\sin{\\left(\\theta_{6} \\right)} + 2.25 J_{y} \\sin{\\left(\\phi_{6} \\right)} \\sin{\\left(\\phi_{7} \\right)} \\sin{\\left(\\theta_{6} \\right)} \\sin{\\left(\\theta_{7} \\right)} + 2.25 J_{y} \\sin{\\left(\\phi_{7} \\right)} \\sin{\\left(\\phi_{8} \\right)} \\sin{\\left(\\theta_{7} \\right)} \\sin{\\left(\\theta_{8} \\right)} + 2.25 J_{z} \\cos{\\left(\\theta_{1} \\right)} \\cos{\\left(\\theta_{2} \\right)} + 2.25 J_{z} \\cos{\\left(\\theta_{1} \\right)} \\cos{\\left(\\theta_{8} \\right)} + 2.25 J_{z} \\cos{\\left(\\theta_{2} \\right)} \\cos{\\left(\\theta_{3} \\right)} + 2.25 J_{z} \\cos{\\left(\\theta_{3} \\right)} \\cos{\\left(\\theta_{4} \\right)} + 2.25 J_{z} \\cos{\\left(\\theta_{4} \\right)} \\cos{\\left(\\theta_{5} \\right)} + 2.25 J_{z} \\cos{\\left(\\theta_{5} \\right)} \\cos{\\left(\\theta_{6} \\right)} + 2.25 J_{z} \\cos{\\left(\\theta_{6} \\right)} \\cos{\\left(\\theta_{7} \\right)} + 2.25 J_{z} \\cos{\\left(\\theta_{7} \\right)} \\cos{\\left(\\theta_{8} \\right)} + 2.25 d_{x} \\sin{\\left(\\phi_{1} \\right)} \\sin{\\left(\\theta_{1} \\right)} \\cos{\\left(\\theta_{2} \\right)} - 2.25 d_{x} \\sin{\\left(\\phi_{1} \\right)} \\sin{\\left(\\theta_{1} \\right)} \\cos{\\left(\\theta_{8} \\right)} - 2.25 d_{x} \\sin{\\left(\\phi_{2} \\right)} \\sin{\\left(\\theta_{2} \\right)} \\cos{\\left(\\theta_{1} \\right)} + 2.25 d_{x} \\sin{\\left(\\phi_{2} \\right)} \\sin{\\left(\\theta_{2} \\right)} \\cos{\\left(\\theta_{3} \\right)} - 2.25 d_{x} \\sin{\\left(\\phi_{3} \\right)} \\sin{\\left(\\theta_{3} \\right)} \\cos{\\left(\\theta_{2} \\right)} + 2.25 d_{x} \\sin{\\left(\\phi_{3} \\right)} \\sin{\\left(\\theta_{3} \\right)} \\cos{\\left(\\theta_{4} \\right)} - 2.25 d_{x} \\sin{\\left(\\phi_{4} \\right)} \\sin{\\left(\\theta_{4} \\right)} \\cos{\\left(\\theta_{3} \\right)} + 2.25 d_{x} \\sin{\\left(\\phi_{4} \\right)} \\sin{\\left(\\theta_{4} \\right)} \\cos{\\left(\\theta_{5} \\right)} - 2.25 d_{x} \\sin{\\left(\\phi_{5} \\right)} \\sin{\\left(\\theta_{5} \\right)} \\cos{\\left(\\theta_{4} \\right)} + 2.25 d_{x} \\sin{\\left(\\phi_{5} \\right)} \\sin{\\left(\\theta_{5} \\right)} \\cos{\\left(\\theta_{6} \\right)} - 2.25 d_{x} \\sin{\\left(\\phi_{6} \\right)} \\sin{\\left(\\theta_{6} \\right)} \\cos{\\left(\\theta_{5} \\right)} + 2.25 d_{x} \\sin{\\left(\\phi_{6} \\right)} \\sin{\\left(\\theta_{6} \\right)} \\cos{\\left(\\theta_{7} \\right)} - 2.25 d_{x} \\sin{\\left(\\phi_{7} \\right)} \\sin{\\left(\\theta_{7} \\right)} \\cos{\\left(\\theta_{6} \\right)} + 2.25 d_{x} \\sin{\\left(\\phi_{7} \\right)} \\sin{\\left(\\theta_{7} \\right)} \\cos{\\left(\\theta_{8} \\right)} + 2.25 d_{x} \\sin{\\left(\\phi_{8} \\right)} \\sin{\\left(\\theta_{8} \\right)} \\cos{\\left(\\theta_{1} \\right)} - 2.25 d_{x} \\sin{\\left(\\phi_{8} \\right)} \\sin{\\left(\\theta_{8} \\right)} \\cos{\\left(\\theta_{7} \\right)} - 2.25 d_{y} \\sin{\\left(\\theta_{1} \\right)} \\cos{\\left(\\phi_{1} \\right)} \\cos{\\left(\\theta_{2} \\right)} + 2.25 d_{y} \\sin{\\left(\\theta_{1} \\right)} \\cos{\\left(\\phi_{1} \\right)} \\cos{\\left(\\theta_{8} \\right)} + 2.25 d_{y} \\sin{\\left(\\theta_{2} \\right)} \\cos{\\left(\\phi_{2} \\right)} \\cos{\\left(\\theta_{1} \\right)} - 2.25 d_{y} \\sin{\\left(\\theta_{2} \\right)} \\cos{\\left(\\phi_{2} \\right)} \\cos{\\left(\\theta_{3} \\right)} + 2.25 d_{y} \\sin{\\left(\\theta_{3} \\right)} \\cos{\\left(\\phi_{3} \\right)} \\cos{\\left(\\theta_{2} \\right)} - 2.25 d_{y} \\sin{\\left(\\theta_{3} \\right)} \\cos{\\left(\\phi_{3} \\right)} \\cos{\\left(\\theta_{4} \\right)} + 2.25 d_{y} \\sin{\\left(\\theta_{4} \\right)} \\cos{\\left(\\phi_{4} \\right)} \\cos{\\left(\\theta_{3} \\right)} - 2.25 d_{y} \\sin{\\left(\\theta_{4} \\right)} \\cos{\\left(\\phi_{4} \\right)} \\cos{\\left(\\theta_{5} \\right)} + 2.25 d_{y} \\sin{\\left(\\theta_{5} \\right)} \\cos{\\left(\\phi_{5} \\right)} \\cos{\\left(\\theta_{4} \\right)} - 2.25 d_{y} \\sin{\\left(\\theta_{5} \\right)} \\cos{\\left(\\phi_{5} \\right)} \\cos{\\left(\\theta_{6} \\right)} + 2.25 d_{y} \\sin{\\left(\\theta_{6} \\right)} \\cos{\\left(\\phi_{6} \\right)} \\cos{\\left(\\theta_{5} \\right)} - 2.25 d_{y} \\sin{\\left(\\theta_{6} \\right)} \\cos{\\left(\\phi_{6} \\right)} \\cos{\\left(\\theta_{7} \\right)} + 2.25 d_{y} \\sin{\\left(\\theta_{7} \\right)} \\cos{\\left(\\phi_{7} \\right)} \\cos{\\left(\\theta_{6} \\right)} - 2.25 d_{y} \\sin{\\left(\\theta_{7} \\right)} \\cos{\\left(\\phi_{7} \\right)} \\cos{\\left(\\theta_{8} \\right)} - 2.25 d_{y} \\sin{\\left(\\theta_{8} \\right)} \\cos{\\left(\\phi_{8} \\right)} \\cos{\\left(\\theta_{1} \\right)} + 2.25 d_{y} \\sin{\\left(\\theta_{8} \\right)} \\cos{\\left(\\phi_{8} \\right)} \\cos{\\left(\\theta_{7} \\right)} - 2.25 d_{z} \\sin{\\left(\\theta_{1} \\right)} \\sin{\\left(\\theta_{2} \\right)} \\sin{\\left(\\phi_{1} - \\phi_{2} \\right)} + 2.25 d_{z} \\sin{\\left(\\theta_{1} \\right)} \\sin{\\left(\\theta_{8} \\right)} \\sin{\\left(\\phi_{1} - \\phi_{8} \\right)} - 2.25 d_{z} \\sin{\\left(\\theta_{2} \\right)} \\sin{\\left(\\theta_{3} \\right)} \\sin{\\left(\\phi_{2} - \\phi_{3} \\right)} - 2.25 d_{z} \\sin{\\left(\\theta_{3} \\right)} \\sin{\\left(\\theta_{4} \\right)} \\sin{\\left(\\phi_{3} - \\phi_{4} \\right)} - 2.25 d_{z} \\sin{\\left(\\theta_{4} \\right)} \\sin{\\left(\\theta_{5} \\right)} \\sin{\\left(\\phi_{4} - \\phi_{5} \\right)} - 2.25 d_{z} \\sin{\\left(\\theta_{5} \\right)} \\sin{\\left(\\theta_{6} \\right)} \\sin{\\left(\\phi_{5} - \\phi_{6} \\right)} - 2.25 d_{z} \\sin{\\left(\\theta_{6} \\right)} \\sin{\\left(\\theta_{7} \\right)} \\sin{\\left(\\phi_{6} - \\phi_{7} \\right)} - 2.25 d_{z} \\sin{\\left(\\theta_{7} \\right)} \\sin{\\left(\\theta_{8} \\right)} \\sin{\\left(\\phi_{7} - \\phi_{8} \\right)}$"
      ],
      "text/plain": [
       "2.25*D*(cos(\\theta_1)**2 + cos(\\theta_2)**2 + cos(\\theta_3)**2 + cos(\\theta_4)**2 + cos(\\theta_5)**2 + cos(\\theta_6)**2 + cos(\\theta_7)**2 + cos(\\theta_8)**2) + 2.25*E*(-2*sin(\\phi_1)**2*sin(\\theta_1)**2 - 2*sin(\\phi_2)**2*sin(\\theta_2)**2 - 2*sin(\\phi_3)**2*sin(\\theta_3)**2 - 2*sin(\\phi_4)**2*sin(\\theta_4)**2 - 2*sin(\\phi_5)**2*sin(\\theta_5)**2 - 2*sin(\\phi_6)**2*sin(\\theta_6)**2 - 2*sin(\\phi_7)**2*sin(\\theta_7)**2 - 2*sin(\\phi_8)**2*sin(\\theta_8)**2 + sin(\\theta_1)**2 + sin(\\theta_2)**2 + sin(\\theta_3)**2 + sin(\\theta_4)**2 + sin(\\theta_5)**2 + sin(\\theta_6)**2 + sin(\\theta_7)**2 + sin(\\theta_8)**2) + 2.25*J_x*sin(\\theta_1)*sin(\\theta_2)*cos(\\phi_1)*cos(\\phi_2) + 2.25*J_x*sin(\\theta_1)*sin(\\theta_8)*cos(\\phi_1)*cos(\\phi_8) + 2.25*J_x*sin(\\theta_2)*sin(\\theta_3)*cos(\\phi_2)*cos(\\phi_3) + 2.25*J_x*sin(\\theta_3)*sin(\\theta_4)*cos(\\phi_3)*cos(\\phi_4) + 2.25*J_x*sin(\\theta_4)*sin(\\theta_5)*cos(\\phi_4)*cos(\\phi_5) + 2.25*J_x*sin(\\theta_5)*sin(\\theta_6)*cos(\\phi_5)*cos(\\phi_6) + 2.25*J_x*sin(\\theta_6)*sin(\\theta_7)*cos(\\phi_6)*cos(\\phi_7) + 2.25*J_x*sin(\\theta_7)*sin(\\theta_8)*cos(\\phi_7)*cos(\\phi_8) + 2.25*J_y*sin(\\phi_1)*sin(\\phi_2)*sin(\\theta_1)*sin(\\theta_2) + 2.25*J_y*sin(\\phi_1)*sin(\\phi_8)*sin(\\theta_1)*sin(\\theta_8) + 2.25*J_y*sin(\\phi_2)*sin(\\phi_3)*sin(\\theta_2)*sin(\\theta_3) + 2.25*J_y*sin(\\phi_3)*sin(\\phi_4)*sin(\\theta_3)*sin(\\theta_4) + 2.25*J_y*sin(\\phi_4)*sin(\\phi_5)*sin(\\theta_4)*sin(\\theta_5) + 2.25*J_y*sin(\\phi_5)*sin(\\phi_6)*sin(\\theta_5)*sin(\\theta_6) + 2.25*J_y*sin(\\phi_6)*sin(\\phi_7)*sin(\\theta_6)*sin(\\theta_7) + 2.25*J_y*sin(\\phi_7)*sin(\\phi_8)*sin(\\theta_7)*sin(\\theta_8) + 2.25*J_z*cos(\\theta_1)*cos(\\theta_2) + 2.25*J_z*cos(\\theta_1)*cos(\\theta_8) + 2.25*J_z*cos(\\theta_2)*cos(\\theta_3) + 2.25*J_z*cos(\\theta_3)*cos(\\theta_4) + 2.25*J_z*cos(\\theta_4)*cos(\\theta_5) + 2.25*J_z*cos(\\theta_5)*cos(\\theta_6) + 2.25*J_z*cos(\\theta_6)*cos(\\theta_7) + 2.25*J_z*cos(\\theta_7)*cos(\\theta_8) + 2.25*d_x*sin(\\phi_1)*sin(\\theta_1)*cos(\\theta_2) - 2.25*d_x*sin(\\phi_1)*sin(\\theta_1)*cos(\\theta_8) - 2.25*d_x*sin(\\phi_2)*sin(\\theta_2)*cos(\\theta_1) + 2.25*d_x*sin(\\phi_2)*sin(\\theta_2)*cos(\\theta_3) - 2.25*d_x*sin(\\phi_3)*sin(\\theta_3)*cos(\\theta_2) + 2.25*d_x*sin(\\phi_3)*sin(\\theta_3)*cos(\\theta_4) - 2.25*d_x*sin(\\phi_4)*sin(\\theta_4)*cos(\\theta_3) + 2.25*d_x*sin(\\phi_4)*sin(\\theta_4)*cos(\\theta_5) - 2.25*d_x*sin(\\phi_5)*sin(\\theta_5)*cos(\\theta_4) + 2.25*d_x*sin(\\phi_5)*sin(\\theta_5)*cos(\\theta_6) - 2.25*d_x*sin(\\phi_6)*sin(\\theta_6)*cos(\\theta_5) + 2.25*d_x*sin(\\phi_6)*sin(\\theta_6)*cos(\\theta_7) - 2.25*d_x*sin(\\phi_7)*sin(\\theta_7)*cos(\\theta_6) + 2.25*d_x*sin(\\phi_7)*sin(\\theta_7)*cos(\\theta_8) + 2.25*d_x*sin(\\phi_8)*sin(\\theta_8)*cos(\\theta_1) - 2.25*d_x*sin(\\phi_8)*sin(\\theta_8)*cos(\\theta_7) - 2.25*d_y*sin(\\theta_1)*cos(\\phi_1)*cos(\\theta_2) + 2.25*d_y*sin(\\theta_1)*cos(\\phi_1)*cos(\\theta_8) + 2.25*d_y*sin(\\theta_2)*cos(\\phi_2)*cos(\\theta_1) - 2.25*d_y*sin(\\theta_2)*cos(\\phi_2)*cos(\\theta_3) + 2.25*d_y*sin(\\theta_3)*cos(\\phi_3)*cos(\\theta_2) - 2.25*d_y*sin(\\theta_3)*cos(\\phi_3)*cos(\\theta_4) + 2.25*d_y*sin(\\theta_4)*cos(\\phi_4)*cos(\\theta_3) - 2.25*d_y*sin(\\theta_4)*cos(\\phi_4)*cos(\\theta_5) + 2.25*d_y*sin(\\theta_5)*cos(\\phi_5)*cos(\\theta_4) - 2.25*d_y*sin(\\theta_5)*cos(\\phi_5)*cos(\\theta_6) + 2.25*d_y*sin(\\theta_6)*cos(\\phi_6)*cos(\\theta_5) - 2.25*d_y*sin(\\theta_6)*cos(\\phi_6)*cos(\\theta_7) + 2.25*d_y*sin(\\theta_7)*cos(\\phi_7)*cos(\\theta_6) - 2.25*d_y*sin(\\theta_7)*cos(\\phi_7)*cos(\\theta_8) - 2.25*d_y*sin(\\theta_8)*cos(\\phi_8)*cos(\\theta_1) + 2.25*d_y*sin(\\theta_8)*cos(\\phi_8)*cos(\\theta_7) - 2.25*d_z*sin(\\theta_1)*sin(\\theta_2)*sin(\\phi_1 - \\phi_2) + 2.25*d_z*sin(\\theta_1)*sin(\\theta_8)*sin(\\phi_1 - \\phi_8) - 2.25*d_z*sin(\\theta_2)*sin(\\theta_3)*sin(\\phi_2 - \\phi_3) - 2.25*d_z*sin(\\theta_3)*sin(\\theta_4)*sin(\\phi_3 - \\phi_4) - 2.25*d_z*sin(\\theta_4)*sin(\\theta_5)*sin(\\phi_4 - \\phi_5) - 2.25*d_z*sin(\\theta_5)*sin(\\theta_6)*sin(\\phi_5 - \\phi_6) - 2.25*d_z*sin(\\theta_6)*sin(\\theta_7)*sin(\\phi_6 - \\phi_7) - 2.25*d_z*sin(\\theta_7)*sin(\\theta_8)*sin(\\phi_7 - \\phi_8)"
      ]
     },
     "execution_count": 9,
     "metadata": {},
     "output_type": "execute_result"
    }
   ],
   "source": [
    "H = Hamiltonian(Sx,Sy,Sz,Jx,Jy,Jz,D,E,dx,dy,dz)\n",
    "H"
   ]
  },
  {
   "cell_type": "markdown",
   "id": "b8405447",
   "metadata": {},
   "source": [
    "### gradient"
   ]
  },
  {
   "cell_type": "code",
   "execution_count": 10,
   "id": "6a17f29d",
   "metadata": {},
   "outputs": [],
   "source": [
    "# https://stackoverflow.com/questions/60164477/define-gradient-and-hessian-function-in-python/60165226#60165226\n",
    "gradient = lambda f, v: Matrix([f]).jacobian(v)"
   ]
  },
  {
   "cell_type": "code",
   "execution_count": 11,
   "id": "ad274328",
   "metadata": {},
   "outputs": [
    {
     "name": "stdout",
     "output_type": "stream",
     "text": [
      "(1, 16)\n"
     ]
    }
   ],
   "source": [
    "grad = gradient(H, theta+phi)\n",
    "print(grad.shape)"
   ]
  },
  {
   "cell_type": "code",
   "execution_count": 12,
   "id": "ab649fa8",
   "metadata": {},
   "outputs": [
    {
     "name": "stdout",
     "output_type": "stream",
     "text": [
      "(16, 16)\n"
     ]
    }
   ],
   "source": [
    "hess = hessian(H, theta+phi)\n",
    "print(hess.shape)"
   ]
  },
  {
   "cell_type": "markdown",
   "id": "acedd0ca",
   "metadata": {},
   "source": [
    "### lambdify"
   ]
  },
  {
   "cell_type": "markdown",
   "id": "b9f54fa4",
   "metadata": {},
   "source": [
    "Trasformo le costanti di accoppiamento in valori numerici e ricalcolo l'Hamiltoniana, il suo gradiente e l'hessiana.\n",
    "\n",
    "Poi trasformo queste funzioni da espressioni sympy a funzioni python per poi minimizzarne il valore dell'Hamiltoniana."
   ]
  },
  {
   "cell_type": "code",
   "execution_count": 18,
   "id": "93fb168c",
   "metadata": {},
   "outputs": [],
   "source": [
    "Jx =  0.433\n",
    "Jy =  0.437\n",
    "Jz =  0.629\n",
    "D  = -0.585\n",
    "E  = -0.005\n",
    "dx =  0.40143\n",
    "dy = -0.40078\n",
    "dz =  0.82405\n",
    "H     = Hamiltonian(Sx,Sy,Sz,Jx,Jy,Jz,D,E,dx,dy,dz)\n",
    "grad_ = gradient(H, theta+phi)\n",
    "hess_ = hessian(H, theta+phi)"
   ]
  },
  {
   "cell_type": "code",
   "execution_count": 19,
   "id": "f469d880",
   "metadata": {},
   "outputs": [],
   "source": [
    "energy = lambdify([theta+phi],H,'numpy')\n",
    "grad   = lambdify([theta+phi],grad_,'numpy')\n",
    "hess   = lambdify([theta+phi],hess_,'numpy')"
   ]
  },
  {
   "cell_type": "markdown",
   "id": "d7d78148",
   "metadata": {},
   "source": [
    "### Minimization"
   ]
  },
  {
   "cell_type": "markdown",
   "id": "5b07be04",
   "metadata": {},
   "source": [
    "Documentation of `scipy.optimize.minimize` can be found here: https://docs.scipy.org/doc/scipy/reference/generated/scipy.optimize.minimize.html"
   ]
  },
  {
   "cell_type": "code",
   "execution_count": 20,
   "id": "4b3b0177",
   "metadata": {},
   "outputs": [],
   "source": [
    "bounds = [(0,np.pi) for i in range(NSpin)] + [(0,2*np.pi) for i in range(NSpin)]"
   ]
  },
  {
   "cell_type": "code",
   "execution_count": 21,
   "id": "002181c6",
   "metadata": {},
   "outputs": [
    {
     "name": "stdout",
     "output_type": "stream",
     "text": [
      "1 / 20\n",
      "energy:  -22.619825171574476\n",
      " theta:  [ 198.05570171  -28.72841689  111.20963915 -131.46687744   28.26973124\n",
      "  131.16034582  111.5778257   -28.5407367 ]\n",
      "   phi:  [135.1262686   -2.03098913  37.0134505   74.56369798 135.1663577\n",
      "  15.32446088 232.65318351 272.05181815]\n",
      "\n",
      "2 / 20\n",
      "energy:  -22.663443266093207\n",
      " theta:  [ 57.6406679   57.2662287  206.42927236 -26.56568316 237.64068146\n",
      " 122.73378226  26.42926704 153.43432275]\n",
      "   phi:  [207.59001311  62.18794003 107.53364037 342.68734496 207.5900158\n",
      " 242.18794477 107.53365098 -17.31265632]\n",
      "\n",
      "3 / 20\n",
      "energy:  -21.85199999999984\n",
      " theta:  [ 1.80000009e+02 -4.38260206e-06  1.79999994e+02 -7.90611300e-06\n",
      "  1.79999996e+02  2.05571406e-06  1.80000005e+02  4.39340486e-07]\n",
      "   phi:  [ 86.88642969 328.17811814 197.34115568 199.41429991 273.25662408\n",
      " 171.65975094 149.16496148  17.53788514]\n",
      "\n",
      "4 / 20\n",
      "energy:  -21.851999999999848\n",
      " theta:  [ 3.60000001e+02  1.80000001e+02  9.57916552e-07  1.79999997e+02\n",
      "  6.54094532e-06  1.80000012e+02 -5.33572337e-06  1.80000008e+02]\n",
      "   phi:  [234.41493626 297.00782772 278.7435977  172.00858941  91.11902983\n",
      " 145.64898548 382.04622648 134.42132899]\n",
      "\n",
      "5 / 20\n",
      "energy:  -20.77170196911786\n",
      " theta:  [129.33825005  51.23266156 309.33824694 128.7673381  230.66175217\n",
      "  51.23266278  50.66175047 231.23266376]\n",
      "   phi:  [260.74701408 189.68262079 260.74701047   9.68261715  80.74701248\n",
      " 189.68262085  80.74701346 189.68261909]\n",
      "\n",
      "6 / 20\n",
      "energy:  -22.66344326609318\n",
      " theta:  [ 57.26621018 153.57073286  26.56568092 122.35932106 122.73377465\n",
      "  26.42927463 153.43431464  57.64068429]\n",
      "   phi:  [422.18794453 287.53364169 162.68733933 387.59001593 242.18794198\n",
      " 107.53364612 342.68734944 207.59002163]\n",
      "\n",
      "7 / 20\n",
      "energy:  -22.663443266093047\n",
      " theta:  [-26.5656788  122.35932487 122.73377788 -26.42927208 153.43431506\n",
      "  57.64069702 -57.26620036 206.42926562]\n",
      "   phi:  [342.68735473 387.59002237 242.18794983 287.53367386 342.68738557\n",
      " 207.59003206 242.18795659 107.53366662]\n",
      "\n",
      "8 / 20\n",
      "energy:  -22.663443266093182\n",
      " theta:  [ 153.5707362   -26.56567993  237.64068214 -122.73378639  -26.42926656\n",
      "  153.43431704  302.35930942   57.26620657]\n",
      "   phi:  [287.53366213 342.68736235 207.59002006 422.18794725 287.5336598\n",
      " -17.31264213  27.59002839  62.18795501]\n",
      "\n",
      "9 / 20\n",
      "energy:  -22.663443266093083\n",
      " theta:  [ 57.64065847  57.26624611 153.57071818  26.56568125 122.35932431\n",
      " 237.2662165  -26.42926952 153.43432918]\n",
      "   phi:  [207.59000371 422.18792653 287.5336225  162.68733048  27.5900079\n",
      "  62.1879405  -72.46636054 342.68733837]\n",
      "\n",
      "10 / 20\n",
      "energy:  -21.851999999999983\n",
      " theta:  [ 6.78073294e-07  1.80000002e+02 -2.58320246e-07  1.80000001e+02\n",
      "  6.43179790e-07  1.79999998e+02  2.48942465e-07  1.80000002e+02]\n",
      "   phi:  [277.17564256 170.77695312  27.87535958 300.64447222 210.88795511\n",
      "  35.52464204 237.63409281 246.06548234]\n",
      "\n",
      "11 / 20\n",
      "energy:  -22.663443266093175\n",
      " theta:  [122.73377451  26.42927087 153.43431697  57.64067622 -57.26622761\n",
      " 206.42927027  26.56568605 122.35932176]\n",
      "   phi:  [242.18794693 107.53365608 342.68735292 207.59001397 242.18793965\n",
      " 107.53364887 162.68734434  27.59001239]\n",
      "\n",
      "12 / 20\n",
      "energy:  -21.852\n",
      " theta:  [ 1.80000000e+02  1.10657547e-07  1.80000000e+02  5.77578647e-07\n",
      "  1.80000000e+02 -7.84293793e-07  1.79999999e+02 -1.40018490e-06]\n",
      "   phi:  [ 95.12345518 342.76021354 215.67556856 232.10319736 152.29571335\n",
      "  14.21847932  96.99991353 128.33684639]\n",
      "\n",
      "13 / 20\n",
      "energy:  -22.61982517157454\n",
      " theta:  [-48.53310962 208.26972847 -48.83966151  68.42216715 151.45927205\n",
      " -18.05569834 208.72842006  68.7903721 ]\n",
      "   phi:  [254.56370683 135.16636862 375.32446089 412.65318405 272.05181155\n",
      " 315.12627948 177.96900994 217.0134534 ]\n",
      "\n",
      "14 / 20\n",
      "energy:  -22.66344326609304\n",
      " theta:  [-26.42927298 206.56568783  57.64069595  57.26621129 206.429268\n",
      " -26.56567997 122.35932385 122.73377304]\n",
      "   phi:  [287.53365268 162.68733363 207.59002392  62.18795195 107.53364661\n",
      " -17.31265072 387.59001925 242.18795181]\n",
      "\n",
      "15 / 20\n",
      "energy:  -22.663443266093225\n",
      " theta:  [ 122.35931737  122.73378056   26.42927049 -153.43431472  -57.6406857\n",
      "   57.26621501  206.42927061   26.56568369]\n",
      "   phi:  [ 387.59001508  242.18794269  107.53365002  162.68734775   27.59001564\n",
      "  422.18794498 -252.46635492  162.68734726]\n",
      "\n",
      "16 / 20\n",
      "energy:  -22.619825171574533\n",
      " theta:  [111.57782315  28.54073231 161.9442999   28.72841759 111.20963342\n",
      " 131.46688308  28.26972977 131.16034713]\n",
      "   phi:  [232.65317789  92.05179723 -44.87373957 177.96900226 397.0134519\n",
      " 254.56370342 135.16635472  15.32445694]\n",
      "\n",
      "17 / 20\n",
      "energy:  -22.663443266093168\n",
      " theta:  [  26.5656848   122.35931421 -122.73378414   26.42927315  153.43431956\n",
      "   57.6406879   -57.2662168   153.5707331 ]\n",
      "   phi:  [162.68735031  27.59001714  62.18794377 107.53365876 -17.31264109\n",
      " 207.59001849 242.18794343 287.53365326]\n",
      "\n",
      "18 / 20\n",
      "energy:  -22.663443266092465\n",
      " theta:  [206.4292867   26.56568853 122.35932087 122.73378896  26.42926034\n",
      " 206.56565826  57.6406341  -57.26624308]\n",
      "   phi:  [107.53363041 162.68733804  27.59002237 242.18793489 107.53366604\n",
      " 162.6873246  207.59000188 242.18791647]\n",
      "\n",
      "19 / 20\n",
      "energy:  -22.663443266092912\n",
      " theta:  [-206.56568406  -57.64068724  302.73378502  206.42927069   26.56568071\n",
      " -122.35932183  122.73376612  -26.42927435]\n",
      "   phi:  [ 342.68733784   27.59001797  242.18793911  107.53363782  162.68730528\n",
      " -152.40999402  242.1879374   287.53362843]\n",
      "\n",
      "20 / 20\n",
      "energy:  -20.771701969117874\n",
      " theta:  [129.33824685  51.23266347  50.66175182 128.76733538 129.33825047\n",
      " -51.23266647  50.66175132 128.7673367 ]\n",
      "   phi:  [260.74701049 189.68262029  80.74701227 369.68262007 260.74701613\n",
      " 369.6826209   80.74701298   9.68261482]\n",
      "\n"
     ]
    }
   ],
   "source": [
    "N = 20 \n",
    "for n in range(N):\n",
    "    print(n+1,\"/\",N)\n",
    "    x0 = np.random.rand(NSpin*2)*np.asarray( [ np.pi for i in range(NSpin)] + [ 2*np.pi for i in range(NSpin)] )\n",
    "    res = minimize(fun=energy,\\\n",
    "                   x0=x0,\\\n",
    "                   jac=lambda x : grad(x).T.flatten(),\\\n",
    "                   #hess=hess,\\\n",
    "                   #bounds=bounds,\\\n",
    "                   method='BFGS', tol=1e-6)\n",
    "    #print(res)\n",
    "    results = res.x*180/np.pi\n",
    "    print(\"energy: \",res.fun)\n",
    "    print(\" theta: \",results[0:NSpin])\n",
    "    print(\"   phi: \",results[NSpin:])\n",
    "    print()"
   ]
  },
  {
   "cell_type": "code",
   "execution_count": null,
   "id": "73205e91",
   "metadata": {},
   "outputs": [],
   "source": []
  }
 ],
 "metadata": {
  "kernelspec": {
   "display_name": "Python 3",
   "language": "python",
   "name": "python3"
  },
  "language_info": {
   "codemirror_mode": {
    "name": "ipython",
    "version": 3
   },
   "file_extension": ".py",
   "mimetype": "text/x-python",
   "name": "python",
   "nbconvert_exporter": "python",
   "pygments_lexer": "ipython3",
   "version": "3.8.8"
  }
 },
 "nbformat": 4,
 "nbformat_minor": 5
}

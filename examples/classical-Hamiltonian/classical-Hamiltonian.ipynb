{
 "cells": [
  {
   "cell_type": "markdown",
   "id": "ed5b6b4b",
   "metadata": {},
   "source": [
    "# Classical Spin Hamiltonians"
   ]
  },
  {
   "cell_type": "code",
   "execution_count": 64,
   "id": "f20f3bb5",
   "metadata": {},
   "outputs": [],
   "source": [
    "import sys\n",
    "sys.path.append(\"../..\")\n",
    "import QuantumSparse as qs\n",
    "import numpy as np\n",
    "import sympy\n",
    "from sympy import symbols,cos,sin,Matrix, hessian,lambdify\n",
    "from scipy.optimize import minimize"
   ]
  },
  {
   "cell_type": "code",
   "execution_count": 65,
   "id": "f58de014",
   "metadata": {},
   "outputs": [
    {
     "name": "stdout",
     "output_type": "stream",
     "text": [
      "[1.5 1.5 1.5 1.5 1.5 1.5 1.5 1.5]\n"
     ]
    }
   ],
   "source": [
    "S     = 3./2.\n",
    "NSpin = 8\n",
    "SpinValues = np.full(NSpin,S)\n",
    "print(SpinValues)"
   ]
  },
  {
   "cell_type": "markdown",
   "id": "13b89c2a",
   "metadata": {},
   "source": [
    "### angular variables"
   ]
  },
  {
   "cell_type": "code",
   "execution_count": 66,
   "id": "55d0ac6f",
   "metadata": {},
   "outputs": [
    {
     "name": "stdout",
     "output_type": "stream",
     "text": [
      "[\\theta_1, \\theta_2, \\theta_3, \\theta_4, \\theta_5, \\theta_6, \\theta_7, \\theta_8]\n",
      "[\\phi_1, \\phi_2, \\phi_3, \\phi_4, \\phi_5, \\phi_6, \\phi_7, \\phi_8]\n"
     ]
    }
   ],
   "source": [
    "# [0,pi]\n",
    "theta = [sympy.symbols('\\\\theta_%d' % i) for i in range(1,NSpin+1)] #,real=True,positive=True\n",
    "# [0,2pi)\n",
    "phi   = [sympy.symbols('\\\\phi_%d'   % i) for i in range(1,NSpin+1)] #,real=True,positive=True\n",
    "print(theta)\n",
    "print(phi)"
   ]
  },
  {
   "cell_type": "markdown",
   "id": "235b425f",
   "metadata": {},
   "source": [
    "### spin variables"
   ]
  },
  {
   "cell_type": "code",
   "execution_count": 67,
   "id": "20d4b536",
   "metadata": {},
   "outputs": [
    {
     "name": "stdout",
     "output_type": "stream",
     "text": [
      "[S^x_1, S^x_2, S^x_3, S^x_4, S^x_5, S^x_6, S^x_7, S^x_8]\n",
      "[S^y_1, S^y_2, S^y_3, S^y_4, S^y_5, S^y_6, S^y_7, S^y_8]\n",
      "[S^z_1, S^z_2, S^z_3, S^z_4, S^z_5, S^z_6, S^z_7, S^z_8]\n"
     ]
    }
   ],
   "source": [
    "Sx = [sympy.symbols('S^x_%d' % i) for i in range(1,NSpin+1)]\n",
    "Sy = [sympy.symbols('S^y_%d' % i) for i in range(1,NSpin+1)]\n",
    "Sz = [sympy.symbols('S^z_%d' % i) for i in range(1,NSpin+1)]\n",
    "print(Sx)\n",
    "print(Sy)\n",
    "print(Sz)"
   ]
  },
  {
   "cell_type": "markdown",
   "id": "108f9a2d",
   "metadata": {},
   "source": [
    "### Spherical coordinates"
   ]
  },
  {
   "cell_type": "code",
   "execution_count": 5,
   "id": "c86acbe3",
   "metadata": {},
   "outputs": [],
   "source": [
    "def spherical_coordinates(r,theta,phi):\n",
    "    x = r*cos(phi)*sin(theta)\n",
    "    y = r*sin(phi)*sin(theta)\n",
    "    z = r*cos(theta)\n",
    "    return x,y,z"
   ]
  },
  {
   "cell_type": "code",
   "execution_count": 6,
   "id": "97fcf2d7",
   "metadata": {},
   "outputs": [
    {
     "name": "stdout",
     "output_type": "stream",
     "text": [
      "[1.5*sin(\\theta_1)*cos(\\phi_1), 1.5*sin(\\theta_2)*cos(\\phi_2), 1.5*sin(\\theta_3)*cos(\\phi_3), 1.5*sin(\\theta_4)*cos(\\phi_4), 1.5*sin(\\theta_5)*cos(\\phi_5), 1.5*sin(\\theta_6)*cos(\\phi_6), 1.5*sin(\\theta_7)*cos(\\phi_7), 1.5*sin(\\theta_8)*cos(\\phi_8)]\n",
      "[1.5*sin(\\phi_1)*sin(\\theta_1), 1.5*sin(\\phi_2)*sin(\\theta_2), 1.5*sin(\\phi_3)*sin(\\theta_3), 1.5*sin(\\phi_4)*sin(\\theta_4), 1.5*sin(\\phi_5)*sin(\\theta_5), 1.5*sin(\\phi_6)*sin(\\theta_6), 1.5*sin(\\phi_7)*sin(\\theta_7), 1.5*sin(\\phi_8)*sin(\\theta_8)]\n",
      "[1.5*cos(\\theta_1), 1.5*cos(\\theta_2), 1.5*cos(\\theta_3), 1.5*cos(\\theta_4), 1.5*cos(\\theta_5), 1.5*cos(\\theta_6), 1.5*cos(\\theta_7), 1.5*cos(\\theta_8)]\n"
     ]
    }
   ],
   "source": [
    "for i in range(NSpin):\n",
    "    Sx[i],Sy[i],Sz[i] = spherical_coordinates(S,theta[i],phi[i])\n",
    "    \n",
    "print(Sx)\n",
    "print(Sy)\n",
    "print(Sz)"
   ]
  },
  {
   "cell_type": "markdown",
   "id": "53e22252",
   "metadata": {},
   "source": [
    "### Hamiltonian"
   ]
  },
  {
   "cell_type": "code",
   "execution_count": 7,
   "id": "687859e7",
   "metadata": {},
   "outputs": [],
   "source": [
    "H = 0\n",
    "Jx,Jy,Jz = symbols('J_x J_y J_z')\n",
    "D,E      = symbols('D E')\n",
    "dx,dy,dz = symbols('d_x d_y d_z')"
   ]
  },
  {
   "cell_type": "code",
   "execution_count": 8,
   "id": "9257334d",
   "metadata": {},
   "outputs": [],
   "source": [
    "def Hamiltonian(Sx,Sy,Sz,Jx,Jy,Jz,D,E,dx,dy,dz):\n",
    "    H = 0\n",
    "    H += qs.Heisenberg(Sx,Sy,Sz,couplings=[Jx,Jy,Jz],nn=1,opts={\"sympy\":True}).simplify()\n",
    "    H += qs.anisotropy(Sz,couplings=D,opts={\"sympy\":True}).simplify()\n",
    "    H += qs.rombicity(Sx,Sy,couplings=E,opts={\"sympy\":True}).simplify()\n",
    "    H += qs.DM(Sx,Sy,Sz,couplings=[dx,dy,dz],opts={\"sympy\":True}).simplify()\n",
    "    return H    "
   ]
  },
  {
   "cell_type": "raw",
   "id": "e65f74a8",
   "metadata": {},
   "source": [
    "H = Hamiltonian(Sx,Sy,Sz,Jx,Jy,Jz,D,E,dx,dy,dz)\n",
    "H"
   ]
  },
  {
   "cell_type": "markdown",
   "id": "b8405447",
   "metadata": {},
   "source": [
    "### gradient"
   ]
  },
  {
   "cell_type": "code",
   "execution_count": 10,
   "id": "1d0c4174",
   "metadata": {},
   "outputs": [],
   "source": [
    "# https://stackoverflow.com/questions/60164477/define-gradient-and-hessian-function-in-python/60165226#60165226\n",
    "gradient = lambda f, v: Matrix([f]).jacobian(v)"
   ]
  },
  {
   "cell_type": "raw",
   "id": "f59dbdad",
   "metadata": {},
   "source": [
    "grad = gradient(H, theta+phi)\n",
    "print(grad.shape)"
   ]
  },
  {
   "cell_type": "raw",
   "id": "a8901ed4",
   "metadata": {},
   "source": [
    "hess = hessian(H, theta+phi)\n",
    "print(hess.shape)"
   ]
  },
  {
   "cell_type": "markdown",
   "id": "acedd0ca",
   "metadata": {},
   "source": [
    "### lambdify"
   ]
  },
  {
   "cell_type": "markdown",
   "id": "b9f54fa4",
   "metadata": {},
   "source": [
    "Trasformo le costanti di accoppiamento in valori numerici e ricalcolo l'Hamiltoniana, il suo gradiente e l'hessiana.\n",
    "\n",
    "Poi trasformo queste funzioni da espressioni sympy a funzioni python per poi minimizzarne il valore dell'Hamiltoniana."
   ]
  },
  {
   "cell_type": "code",
   "execution_count": 11,
   "id": "93fb168c",
   "metadata": {},
   "outputs": [],
   "source": [
    "Jx =  0.433\n",
    "Jy =  0.437\n",
    "Jz =  0.629\n",
    "D  = -0.585\n",
    "E  = -0.005\n",
    "dx =  0.40143\n",
    "dy = -0.40078\n",
    "dz =  0.82405\n",
    "H     = Hamiltonian(Sx,Sy,Sz,Jx,Jy,Jz,D,E,dx,dy,dz)\n",
    "grad_ = gradient(H, theta+phi)\n",
    "hess_ = hessian(H, theta+phi)"
   ]
  },
  {
   "cell_type": "code",
   "execution_count": 12,
   "id": "f469d880",
   "metadata": {},
   "outputs": [],
   "source": [
    "energy = lambdify([theta+phi],H,'numpy')\n",
    "grad   = lambdify([theta+phi],grad_,'numpy')\n",
    "hess   = lambdify([theta+phi],hess_,'numpy')"
   ]
  },
  {
   "cell_type": "markdown",
   "id": "d7d78148",
   "metadata": {},
   "source": [
    "### Minimization"
   ]
  },
  {
   "cell_type": "markdown",
   "id": "5b07be04",
   "metadata": {},
   "source": [
    "Documentation of `scipy.optimize.minimize` can be found here: https://docs.scipy.org/doc/scipy/reference/generated/scipy.optimize.minimize.html"
   ]
  },
  {
   "cell_type": "code",
   "execution_count": 13,
   "id": "4b3b0177",
   "metadata": {},
   "outputs": [],
   "source": [
    "bounds = [(0,np.pi) for i in range(NSpin)] + [(0,2*np.pi) for i in range(NSpin)]"
   ]
  },
  {
   "cell_type": "code",
   "execution_count": 52,
   "id": "002181c6",
   "metadata": {},
   "outputs": [
    {
     "name": "stdout",
     "output_type": "stream",
     "text": [
      "1 / 10\n",
      "energy:  -21.246596307892283\n",
      " theta:  [ 16.13494348 133.5860519  118.9321616   45.12898511  58.35157913\n",
      " 180.           2.41513666 173.72145242]\n",
      "   phi:  [130.49628006 360.         248.11917464 165.5659775   46.03053727\n",
      "  77.46673389 359.88035979 235.36922355]\n",
      "\n",
      "2 / 10\n",
      "energy:  -21.85197645624395\n",
      " theta:  [5.24727649e-03 1.80000000e+02 0.00000000e+00 1.80000000e+02\n",
      " 0.00000000e+00 1.80000000e+02 1.07379074e-01 1.79825140e+02]\n",
      "   phi:  [293.01659825  73.27742748 299.82610218 189.4580747  183.85251127\n",
      "  52.78431221 175.57904795  80.38557805]\n",
      "\n",
      "3 / 10\n",
      "energy:  -22.315605563885015\n",
      " theta:  [180.          10.73346376 145.05420046  88.15932847  39.77253795\n",
      " 141.37720495  90.2301004   30.12501838]\n",
      "   phi:  [104.51295434 140.85500247   8.76655028 227.16547289  95.48687664\n",
      " 351.3780188  219.78694629  80.73980123]\n",
      "\n",
      "4 / 10\n",
      "energy:  -22.234684065458577\n",
      " theta:  [159.20819807   0.         180.          37.8689819   73.58976206\n",
      " 145.91382881  51.30593299  61.59721789]\n",
      "   phi:  [279.54890157  28.98817916 193.15121393 198.15679343  57.78903576\n",
      " 298.67515743 192.72266571  54.62850951]\n",
      "\n",
      "5 / 10\n",
      "energy:  -21.60081407936382\n",
      " theta:  [ 17.71727892 125.81026121 125.50279733  18.1853631  180.\n",
      "  47.40298033  47.74322423 180.        ]\n",
      "   phi:  [161.09572067  26.63972787 241.41388451 104.53873314 148.29127574\n",
      " 206.20112121  62.67549425 176.74400779]\n",
      "\n",
      "6 / 10\n",
      "energy:  -22.657962993197415\n",
      " theta:  [ 28.93913158 153.01590235  57.6441091   57.00185254 153.89169589\n",
      "  24.63141429 128.04227354 116.11936802]\n",
      "   phi:  [101.25675545 340.43723183 206.98719367  61.53553442 286.65745557\n",
      " 159.6081405   23.36766125 237.48498296]\n",
      "\n",
      "7 / 10\n",
      "energy:  -19.618967136463453\n",
      " theta:  [130.65383288 125.76884572  64.17201475   0.         178.90884031\n",
      "   3.14128501 173.25986706  16.97643194]\n",
      "   phi:  [360.         261.24200293 188.57124192 230.9619963   93.51092277\n",
      " 354.33676097 227.72244545 130.08350048]\n",
      "\n",
      "8 / 10\n",
      "energy:  -21.405490975228037\n",
      " theta:  [ 51.79434826  51.40148214 128.93495318 127.69117234   0.\n",
      " 180.           0.         180.        ]\n",
      "   phi:  [216.77279264  88.6352941  360.         232.37531038 360.\n",
      " 350.81595606 235.96445814 170.97444237]\n",
      "\n",
      "9 / 10\n",
      "energy:  -22.305471012440044\n",
      " theta:  [ 95.66962429  32.37525546 169.14942773   0.         152.11946958\n",
      "  81.78328397  40.26368095 139.69527435]\n",
      "   phi:  [224.31200219  84.61954559 315.78389386   0.         360.\n",
      " 224.93176199  96.14736753   0.        ]\n",
      "\n",
      "10 / 10\n",
      "energy:  -22.251038335800832\n",
      " theta:  [ 34.08478799 104.67783165 143.046915     0.         175.88571657\n",
      "  22.46653081 115.07062719 131.12236566]\n",
      "   phi:  [153.94203797  33.09772002 253.53221178 309.34333448 238.10969505\n",
      " 169.50583416  35.55717574 258.88373889]\n",
      "\n"
     ]
    }
   ],
   "source": [
    "N = 10\n",
    "E = np.zeros(N)\n",
    "angles = np.zeros((N,NSpin*2))\n",
    "for n in range(N):\n",
    "    print(n+1,\"/\",N)\n",
    "    x0 = np.random.rand(NSpin*2)*np.asarray( [ np.pi for i in range(NSpin)] + [ 2*np.pi for i in range(NSpin)] )\n",
    "    res = minimize(fun=energy,\\\n",
    "                   x0=x0,\\\n",
    "                   jac=lambda x : grad(x).T.flatten(),\\\n",
    "                   hess=hess,\\\n",
    "                   bounds=bounds,\\\n",
    "                   method='L-BFGS-B', tol=1e-4)\n",
    "    #print(res)\n",
    "    results = res.x*180/np.pi\n",
    "    \n",
    "    E[n] = res.fun\n",
    "    angles[n,:] = res.x    \n",
    "    print(\"energy: \",res.fun)\n",
    "    print(\" theta: \",results[0:NSpin])\n",
    "    print(\"   phi: \",results[NSpin:])\n",
    "    print()"
   ]
  },
  {
   "cell_type": "code",
   "execution_count": 53,
   "id": "73205e91",
   "metadata": {},
   "outputs": [
    {
     "name": "stdout",
     "output_type": "stream",
     "text": [
      " index: 5\n",
      "energy: -22.657962993197415\n"
     ]
    }
   ],
   "source": [
    "print(\" index:\",np.argmin(E))\n",
    "print(\"energy:\",np.min(E))"
   ]
  },
  {
   "cell_type": "code",
   "execution_count": 54,
   "id": "0d561677",
   "metadata": {},
   "outputs": [
    {
     "data": {
      "text/plain": [
       "array([8.21832068, 7.71430034, 6.61660887, 5.15865261, 5.12036936,\n",
       "       4.65254715, 0.10115893, 0.24112748, 0.68518128, 1.25398354,\n",
       "       1.61832668, 1.42407295, 3.68513108, 2.73577833, 2.85447229,\n",
       "       2.88563001])"
      ]
     },
     "execution_count": 54,
     "metadata": {},
     "output_type": "execute_result"
    }
   ],
   "source": [
    "matrix = hess(angles[np.argmin(E)])\n",
    "np.linalg.eig(matrix)[0]"
   ]
  },
  {
   "cell_type": "code",
   "execution_count": 56,
   "id": "dcf65ff7",
   "metadata": {},
   "outputs": [],
   "source": [
    "H = qs.Heisenberg(Sx,Sy,Sz,couplings=1,nn=1,opts={\"sympy\":True}).simplify()\n",
    "grad_ = gradient(H, theta+phi)\n",
    "hess_ = hessian(H, theta+phi)\n",
    "energy = lambdify([theta+phi],H,'numpy')\n",
    "grad   = lambdify([theta+phi],grad_,'numpy')\n",
    "hess   = lambdify([theta+phi],hess_,'numpy')\n",
    "bounds = [(0,np.pi) for i in range(NSpin)] + [(0,2*np.pi) for i in range(NSpin)]"
   ]
  },
  {
   "cell_type": "code",
   "execution_count": 58,
   "id": "1430c9ea",
   "metadata": {},
   "outputs": [
    {
     "name": "stdout",
     "output_type": "stream",
     "text": [
      "1 / 10\n",
      "energy:  -17.999757813556755\n",
      " theta:  [180.           0.         179.35099095   0.49955126 180.\n",
      "   0.         180.           0.        ]\n",
      "   phi:  [1.35889904e-01 1.97734795e+02 3.43938898e+02 1.75701659e+02\n",
      " 1.71697714e+02 8.70604995e+01 3.60000000e+02 1.68967511e+02]\n",
      "\n",
      "2 / 10\n",
      "energy:  -17.99950597235303\n",
      " theta:  [ 45.13833812 134.38022282  45.70772302 134.16658807  45.79660125\n",
      " 134.4706937   45.32790121 135.05417105]\n",
      "   phi:  [  0.         180.02177849 359.3923961  178.53875953 358.77729549\n",
      " 178.9006755  358.96616544 179.55694046]\n",
      "\n",
      "3 / 10\n",
      "energy:  -17.999391904330366\n",
      " theta:  [  8.67349588 171.42955729   8.53940524 171.3292478    8.74795605\n",
      " 171.39566523   8.63905726 171.23778998]\n",
      "   phi:  [  4.65470296 188.42563755   8.17389145 181.59867784   0.\n",
      " 178.51829408 360.         182.18743552]\n",
      "\n",
      "4 / 10\n",
      "energy:  -18.0\n",
      " theta:  [  0. 180.   0. 180.   0. 180.   0. 180.]\n",
      "   phi:  [161.96771752 318.46303865 104.53838461 296.70069898  91.37280582\n",
      " 126.63600153   6.84518432   0.        ]\n",
      "\n",
      "5 / 10\n",
      "energy:  -17.99994420442065\n",
      " theta:  [0.00000000e+00 1.80000000e+02 1.70702329e-01 1.80000000e+02\n",
      " 0.00000000e+00 1.79826274e+02 4.07908869e-02 1.79819856e+02]\n",
      "   phi:  [156.39157827 243.42508817  63.10423388 252.73993495 270.87667641\n",
      " 293.30934392 151.41821022   0.        ]\n",
      "\n",
      "6 / 10\n",
      "energy:  -17.999964311995203\n",
      " theta:  [103.05399102  76.85619586 103.24966828  76.72749485 103.24868097\n",
      "  76.84060165 103.04285298  76.95801127]\n",
      "   phi:  [1.79832616e+02 3.59835312e+02 1.79851344e+02 6.71557515e-03\n",
      " 1.80012908e+02 3.60000000e+02 1.79919907e+02 3.60000000e+02]\n",
      "\n",
      "7 / 10\n",
      "energy:  -17.99947424376261\n",
      " theta:  [  0.88544958 179.47252006   0.66205878 179.81040407   0.71196025\n",
      " 178.92042363   1.35336594 179.28467946]\n",
      "   phi:  [  0.         176.77652699 360.         202.64550023  31.69927025\n",
      " 200.10949112 360.         175.2606188 ]\n",
      "\n",
      "8 / 10\n",
      "energy:  -11.690088319878868\n",
      " theta:  [180.         178.65689555   0.         149.72270151  60.44939702\n",
      "  89.68198892 120.17537138  30.01091944]\n",
      "   phi:  [2.55910830e+02 2.65828114e-01 2.37138907e+02 2.87422187e+02\n",
      " 1.06489804e+02 2.85625767e+02 1.04456529e+02 2.82726768e+02]\n",
      "\n",
      "9 / 10\n",
      "energy:  -17.999924897803293\n",
      " theta:  [0.00000000e+00 1.79834059e+02 1.57239255e-01 1.79614525e+02\n",
      " 5.65626621e-01 1.79534911e+02 2.34564278e-01 1.79860186e+02]\n",
      "   phi:  [  6.02096624  51.86796105 248.23878962  66.21066053 257.89914401\n",
      "  74.07062085 247.68615698  55.58488866]\n",
      "\n",
      "10 / 10\n",
      "energy:  -18.0\n",
      " theta:  [180.   0. 180.   0. 180.   0. 180.   0.]\n",
      "   phi:  [360.         360.           0.           0.           0.\n",
      "   0.         249.27686588 360.        ]\n",
      "\n"
     ]
    }
   ],
   "source": [
    "N = 10\n",
    "E = np.zeros(N)\n",
    "angles = np.zeros((N,NSpin*2))\n",
    "for n in range(N):\n",
    "    print(n+1,\"/\",N)\n",
    "    x0 = np.random.rand(NSpin*2)*np.asarray( [ np.pi for i in range(NSpin)] + [ 2*np.pi for i in range(NSpin)] )\n",
    "    res = minimize(fun=energy,\\\n",
    "                   x0=x0,\\\n",
    "                   jac=lambda x : grad(x).T.flatten(),\\\n",
    "                   hess=hess,\\\n",
    "                   bounds=bounds,\\\n",
    "                   method='L-BFGS-B', tol=1e-4)\n",
    "    #print(res)\n",
    "    results = res.x*180/np.pi\n",
    "    \n",
    "    E[n] = res.fun\n",
    "    angles[n,:] = res.x    \n",
    "    print(\"energy: \",res.fun)\n",
    "    print(\" theta: \",results[0:NSpin])\n",
    "    print(\"   phi: \",results[NSpin:])\n",
    "    print()"
   ]
  },
  {
   "cell_type": "code",
   "execution_count": 62,
   "id": "7fac1db4",
   "metadata": {},
   "outputs": [
    {
     "data": {
      "text/plain": [
       "array([ 8.454282,  7.574851,  6.889659,  4.82849 ,  4.17151 ,  2.110341,\n",
       "        0.545718,  1.425149, -0.      , -0.      , -0.      , -0.      ,\n",
       "       -0.      ,  0.      ,  0.      ,  0.      ])"
      ]
     },
     "execution_count": 62,
     "metadata": {},
     "output_type": "execute_result"
    }
   ],
   "source": [
    "matrix = hess(angles[np.argmin(E)])\n",
    "np.round(np.linalg.eig(matrix)[0],6)"
   ]
  },
  {
   "cell_type": "code",
   "execution_count": 63,
   "id": "e627667a",
   "metadata": {},
   "outputs": [
    {
     "data": {
      "text/plain": [
       "array([[-5.14694185e-16, -5.51091060e-16, -4.98000846e-16,\n",
       "        -5.51091060e-16, -2.40732504e-17, -5.51091060e-16,\n",
       "         1.36680763e-16, -5.51091060e-16,  0.00000000e+00,\n",
       "         0.00000000e+00, -0.00000000e+00,  0.00000000e+00,\n",
       "         0.00000000e+00, -0.00000000e+00,  0.00000000e+00,\n",
       "         0.00000000e+00]])"
      ]
     },
     "execution_count": 63,
     "metadata": {},
     "output_type": "execute_result"
    }
   ],
   "source": [
    "grad(angles[np.argmin(E)])"
   ]
  },
  {
   "cell_type": "code",
   "execution_count": null,
   "id": "cdab5875",
   "metadata": {},
   "outputs": [],
   "source": []
  }
 ],
 "metadata": {
  "kernelspec": {
   "display_name": "Python 3",
   "language": "python",
   "name": "python3"
  },
  "language_info": {
   "codemirror_mode": {
    "name": "ipython",
    "version": 3
   },
   "file_extension": ".py",
   "mimetype": "text/x-python",
   "name": "python",
   "nbconvert_exporter": "python",
   "pygments_lexer": "ipython3",
   "version": "3.8.8"
  }
 },
 "nbformat": 4,
 "nbformat_minor": 5
}
